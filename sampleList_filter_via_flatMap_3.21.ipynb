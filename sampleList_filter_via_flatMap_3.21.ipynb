{
 "cells": [
  {
   "cell_type": "markdown",
   "metadata": {},
   "source": [
    "# EXERCISE 3.21\n",
    "\n",
    "flatMap 使って、filter 作る。"
   ]
  },
  {
   "cell_type": "code",
   "execution_count": 1,
   "metadata": {
    "collapsed": false
   },
   "outputs": [
    {
     "data": {
      "text/plain": [
       "defined \u001b[32mtrait \u001b[36mList\u001b[0m\n",
       "defined \u001b[32mobject \u001b[36mNil\u001b[0m\n",
       "defined \u001b[32mclass \u001b[36mCons\u001b[0m\n",
       "defined \u001b[32mobject \u001b[36mList\u001b[0m\n",
       "\u001b[36mres0_4\u001b[0m: \u001b[32m$user\u001b[0m.\u001b[32mList\u001b[0m[\u001b[32mInt\u001b[0m] = Cons(2,Nil)"
      ]
     },
     "metadata": {},
     "output_type": "display_data"
    }
   ],
   "source": [
    "sealed trait List[+A]\n",
    "case object Nil extends List[Nothing]\n",
    "case class Cons[+A](head: A, tail: List[A]) extends List[A]\n",
    "\n",
    "object List {\n",
    "    def sum(ints: List[Int]): Int =\n",
    "        ints match {\n",
    "            case Nil => 0\n",
    "            case Cons(x, xs) => x + sum(xs)\n",
    "        }\n",
    "    \n",
    "    def apply[A](as: A*): List[A] =\n",
    "        if (as.isEmpty) Nil\n",
    "        else Cons(as.head, apply(as.tail: _*))\n",
    "    \n",
    "    def tail[A](as: List[A]): List[A] =\n",
    "        as match {\n",
    "            case Nil => Nil\n",
    "            case Cons(h, t) => t\n",
    "        }\n",
    "    \n",
    "    def setHead[A](l: List[A], a: A): List[A] =\n",
    "        l match {\n",
    "            case Nil => apply(a)\n",
    "            case Cons(_, t) => Cons(a, t)\n",
    "        }\n",
    "    \n",
    "    def drop[A](l: List[A], n: Int): List[A] =\n",
    "        if (n <= 0) l\n",
    "        else l match {\n",
    "            case Nil => Nil\n",
    "            case Cons(_, t) => drop(t, n-1)\n",
    "        }\n",
    "    \n",
    "    def dropWhile[A](l: List[A], f: A => Boolean): List[A] =\n",
    "        l match {\n",
    "            case Cons(h, t) => if (f(h)) dropWhile(t, f) else l\n",
    "            case _ => l\n",
    "        }\n",
    "    \n",
    "    def init[A](l: List[A]): List[A] =\n",
    "        l match {\n",
    "            case Nil => sys.error(\"empty\")\n",
    "            case Cons(_,Nil) => Nil\n",
    "            case Cons(h,t) => Cons(h, init(t))\n",
    "        }\n",
    " \n",
    "    def foldRight[A,B](as: List[A], z: B)(f: (A, B) => B): B = // Utility functions\n",
    "        as match {\n",
    "          case Nil => z\n",
    "          case Cons(x, xs) => f(x, foldRight(xs, z)(f))\n",
    "    }\n",
    "    \n",
    "    def length[A](as: List[A]): Int =\n",
    "        foldRight(as, 0)((x,y) => 1 + y)\n",
    "    \n",
    "    def append[A](a1: List[A], a2: List[A]): List[A] =\n",
    "        a1 match {\n",
    "          case Nil => a2\n",
    "          case Cons(h,t) => Cons(h, append(t, a2))\n",
    "    }\n",
    "\n",
    "    \n",
    "    @annotation.tailrec\n",
    "    def foldLeft[A,B](as: List[A], z: B)(f: (B, A) => B): B =\n",
    "        as match {\n",
    "            case Nil => z\n",
    "            case Cons(x, xs) => foldLeft(xs, f(z, x))(f)\n",
    "        }\n",
    "    \n",
    "    def reverse[A](as: List[A]): List[A] =\n",
    "        foldLeft(as, Nil:List[A])((z, l) => Cons(l, z))\n",
    "    \n",
    "    def foldRightViaFoldLeft[A,B](l: List[A], z: B)(f: (A,B) => B): B =\n",
    "        foldLeft(reverse(l), z)((b,a) => f(a,b))\n",
    "\n",
    "    def foldRightViaFoldLeft_1[A,B](l: List[A], z: B)(f: (A,B) => B): B =\n",
    "        foldLeft(l, (b:B) => b)((g,a) => b => g(f(a,b)))(z)\n",
    "\n",
    "    def foldLeftViaFoldRight[A,B](l: List[A], z: B)(f: (B,A) => B): B =\n",
    "        foldRight(l, (b:B) => b)((a,g) => b => g(f(b,a)))(z)\n",
    "    \n",
    "    def concat[A](l: List[List[A]]): List[A] =\n",
    "        foldRight(l, Nil:List[A])(append(_,_))\n",
    "    \n",
    "    def map[A,B](as: List[A])(f: A=>B): List[B] =\n",
    "        foldRight(as, Nil:List[B])((h,t) => Cons(f(h), t))\n",
    "    \n",
    "    def filter[A](as: List[A])(f: A => Boolean): List[A] =\n",
    "        foldRight(as, Nil:List[A])((h,t) => if (f(h)) Cons(h,t) else t) // foldRightViaFoldLeft is better\n",
    "    \n",
    "    def flatMap[A,B](as: List[A])(f: A => List[B]): List[B] =\n",
    "        //concat(map(as)(f))\n",
    "        foldRight(as, Nil:List[B])((h,t) => append(f(h), t))\n",
    "    \n",
    "    def filterViaFlatMap[A](as: List[A])(f: A=> Boolean): List[A] =\n",
    "        flatMap(as)((x) => if (f(x)) List(x) else Nil)\n",
    "}\n",
    "\n",
    "List.filterViaFlatMap(List(1,2,3))((x) => (x % 2) != 1)"
   ]
  },
  {
   "cell_type": "markdown",
   "metadata": {},
   "source": [
    "elseの後ろの Nil が Nil だけでいいのかちょっと迷ったけど、List[A]であることはわかっているので、いいってことかな。"
   ]
  }
 ],
 "metadata": {
  "kernelspec": {
   "display_name": "Scala 2.11",
   "language": "scala211",
   "name": "scala211"
  },
  "language_info": {
   "codemirror_mode": "text/x-scala",
   "file_extension": "scala",
   "mimetype": "text/x-scala",
   "name": "scala211",
   "pygments_lexer": "scala",
   "version": "2.11.6"
  }
 },
 "nbformat": 4,
 "nbformat_minor": 0
}
