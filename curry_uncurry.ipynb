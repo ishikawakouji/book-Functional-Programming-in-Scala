{
 "cells": [
  {
   "cell_type": "markdown",
   "metadata": {},
   "source": [
    "# EXERCISE2.3\n",
    "## currying\n",
    "\n",
    "まずは、curry、カリー化の実装。\n",
    "\n",
    "```Scala\n",
    "def curry[A,B,C](f: (A, B) => C): A => (B =>C)\n",
    "```\n",
    "\n",
    "引数１つの関数にするには、順番に与えるしかない。=> は右結合らしいので、\n",
    "括弧は不要らしい。\n",
    "\n",
    "どちらにしろ、Cを返すのは、関数f しかないので、\n",
    "\n",
    "```Scala\n",
    "b: B => f(a: A, b: B)\n",
    "```\n",
    "\n",
    "ここで、関数の説明はされているし、curryの定義に B=>C としているので、アノテーションは不要らしい。\n",
    "\n",
    "```Scala\n",
    "b => f(a, b)\n",
    "```\n",
    "\n",
    "a が無いので、次に a をもらう。\n",
    "\n",
    "```Scala\n",
    "a => (b => f(a,b))\n",
    "```\n",
    "\n",
    "どうだろうか。"
   ]
  },
  {
   "cell_type": "code",
   "execution_count": 1,
   "metadata": {
    "collapsed": false
   },
   "outputs": [
    {
     "data": {
      "text/plain": [
       "defined \u001b[32mfunction \u001b[36mcurry\u001b[0m"
      ]
     },
     "metadata": {},
     "output_type": "display_data"
    }
   ],
   "source": [
    "def curry[A,B,C](f: (A,B) => C): A => (B => C) =\n",
    "a => (b=> f(a,b))"
   ]
  },
  {
   "cell_type": "markdown",
   "metadata": {},
   "source": [
    "先の右結合の話をもってくると括弧は不要なので、"
   ]
  },
  {
   "cell_type": "code",
   "execution_count": 2,
   "metadata": {
    "collapsed": false
   },
   "outputs": [
    {
     "data": {
      "text/plain": [
       "defined \u001b[32mfunction \u001b[36mcurry2\u001b[0m"
      ]
     },
     "metadata": {},
     "output_type": "display_data"
    }
   ],
   "source": [
    "def curry2[A,B,C](f: (A,B) => C): A => (B => C) =\n",
    "a => b=> f(a,b)"
   ]
  },
  {
   "cell_type": "markdown",
   "metadata": {},
   "source": [
    "本家でもそいうことになっている。"
   ]
  },
  {
   "cell_type": "markdown",
   "metadata": {},
   "source": [
    "## uncurry\n",
    "\n",
    "今度は逆にする。\n",
    "\n",
    "```Scala\n",
    "def uncurry[A,B,C](f: A => B => C): (A, B) => C\n",
    "```\n",
    "\n",
    "A,Bを引数にする部分は\n",
    "\n",
    "```Scala\n",
    "(a, b) =>\n",
    "```\n",
    "\n",
    "で、いいとして、Cに変換するには、関数fを使うのだが、どうする？\n",
    "\n",
    "```Scala\n",
    "f(a)(b)\n",
    "```\n",
    "\n",
    "とのこと。"
   ]
  },
  {
   "cell_type": "code",
   "execution_count": 3,
   "metadata": {
    "collapsed": false
   },
   "outputs": [
    {
     "data": {
      "text/plain": [
       "defined \u001b[32mfunction \u001b[36muncurry\u001b[0m"
      ]
     },
     "metadata": {},
     "output_type": "display_data"
    }
   ],
   "source": [
    "def uncurry[A,B,C](f: A => B => C): (A, B) => C =\n",
    "(a,b) => f(a)(b)"
   ]
  },
  {
   "cell_type": "markdown",
   "metadata": {},
   "source": [
    "逆はいけないらしい。"
   ]
  },
  {
   "cell_type": "code",
   "execution_count": 4,
   "metadata": {
    "collapsed": false
   },
   "outputs": [
    {
     "ename": "",
     "evalue": "",
     "output_type": "error",
     "traceback": [
      "Compilation Failed",
      "\u001b[31mMain.scala:54: type mismatch;",
      " found   : b.type (with underlying type B)",
      " required: A",
      "(a,b) => f(b)(a)",
      "           ^\u001b[0m"
     ]
    }
   ],
   "source": [
    "def uncurry2[A,B,C](f: A => B => C): (A, B) => C =\n",
    "(a,b) => f(b)(a)"
   ]
  },
  {
   "cell_type": "markdown",
   "metadata": {},
   "source": [
    "これは、B=>C が先に来てるってことかな。"
   ]
  },
  {
   "cell_type": "code",
   "execution_count": 5,
   "metadata": {
    "collapsed": false
   },
   "outputs": [
    {
     "data": {
      "text/plain": [
       "defined \u001b[32mfunction \u001b[36muncurry3\u001b[0m"
      ]
     },
     "metadata": {},
     "output_type": "display_data"
    }
   ],
   "source": [
    "def uncurry3[A,B,C](f: A => B => C): (A, B) => C =\n",
    "(a,b) => (f(a))(b)"
   ]
  },
  {
   "cell_type": "markdown",
   "metadata": {},
   "source": [
    "つまりBを引数にする関数があって、そこは実はAを引数にする関数だと考えるらしい。"
   ]
  }
 ],
 "metadata": {
  "kernelspec": {
   "display_name": "Scala 2.11",
   "language": "scala211",
   "name": "scala211"
  },
  "language_info": {
   "codemirror_mode": "text/x-scala",
   "file_extension": "scala",
   "mimetype": "text/x-scala",
   "name": "scala211",
   "pygments_lexer": "scala",
   "version": "2.11.6"
  }
 },
 "nbformat": 4,
 "nbformat_minor": 0
}
