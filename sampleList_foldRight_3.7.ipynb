{
 "cells": [
  {
   "cell_type": "markdown",
   "metadata": {},
   "source": [
    "# EXERCISE 3.7\n",
    "\n",
    "単に展開しているだけだからだな。\n",
    "\n",
    "```\n",
    "  /*\n",
    "  No, this is not possible! The reason is because _before_ we ever call our function, `f`, we evaluate its argument,\n",
    "  which in the case of `foldRight` means traversing the list all the way to the end. We need _non-strict_ evaluation\n",
    "  to support early termination---we discuss this in chapter 5.\n",
    "  */\n",
    "```\n"
   ]
  }
 ],
 "metadata": {
  "kernelspec": {
   "display_name": "Scala 2.11",
   "language": "scala211",
   "name": "scala211"
  },
  "language_info": {
   "codemirror_mode": "text/x-scala",
   "file_extension": "scala",
   "mimetype": "text/x-scala",
   "name": "scala211",
   "pygments_lexer": "scala",
   "version": "2.11.6"
  }
 },
 "nbformat": 4,
 "nbformat_minor": 0
}
