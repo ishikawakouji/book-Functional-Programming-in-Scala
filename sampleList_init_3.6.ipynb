{
 "cells": [
  {
   "cell_type": "markdown",
   "metadata": {},
   "source": [
    "# EXERCISE 3.6\n",
    "\n",
    "末尾を除くList を返す init を作る。\n",
    "\n",
    "```Scala\n",
    "def init[A](l: List[A]): List[A]\n",
    "```\n",
    "\n",
    "与えられたListから一個ずつ抜いて、最後の一個前で止める、かな。"
   ]
  },
  {
   "cell_type": "code",
   "execution_count": 2,
   "metadata": {
    "collapsed": false
   },
   "outputs": [
    {
     "data": {
      "text/plain": [
       "defined \u001b[32mtrait \u001b[36mList\u001b[0m\n",
       "defined \u001b[32mobject \u001b[36mNil\u001b[0m\n",
       "defined \u001b[32mclass \u001b[36mCons\u001b[0m\n",
       "defined \u001b[32mobject \u001b[36mList\u001b[0m\n",
       "\u001b[36ma\u001b[0m: \u001b[32m$user\u001b[0m.\u001b[32mList\u001b[0m[\u001b[32mInt\u001b[0m] = Cons(1,Cons(2,Cons(3,Cons(4,Nil))))\n",
       "\u001b[36mb\u001b[0m: \u001b[32m$user\u001b[0m.\u001b[32mList\u001b[0m[\u001b[32mInt\u001b[0m] = Cons(1,Cons(2,Cons(3,Nil)))"
      ]
     },
     "metadata": {},
     "output_type": "display_data"
    }
   ],
   "source": [
    "sealed trait List[+A]\n",
    "case object Nil extends List[Nothing]\n",
    "case class Cons[+A](head: A, tail: List[A]) extends List[A]\n",
    "\n",
    "object List {\n",
    "    def sum(ints: List[Int]): Int =\n",
    "        ints match {\n",
    "            case Nil => 0\n",
    "            case Cons(x, xs) => x + sum(xs)\n",
    "        }\n",
    "    \n",
    "    def apply[A](as: A*): List[A] =\n",
    "        if (as.isEmpty) Nil\n",
    "        else Cons(as.head, apply(as.tail: _*))\n",
    "    \n",
    "    def tail[A](as: List[A]): List[A] =\n",
    "        as match {\n",
    "            case Nil => Nil\n",
    "            case Cons(h, t) => t\n",
    "        }\n",
    "    \n",
    "    def setHead[A](l: List[A], a: A): List[A] =\n",
    "        l match {\n",
    "            case Nil => apply(a)\n",
    "            case Cons(_, t) => Cons(a, t)\n",
    "        }\n",
    "    \n",
    "    def drop[A](l: List[A], n: Int): List[A] =\n",
    "        if (n <= 0) l\n",
    "        else l match {\n",
    "            case Nil => Nil\n",
    "            case Cons(_, t) => drop(t, n-1)\n",
    "        }\n",
    "    \n",
    "    def dropWhile[A](l: List[A], f: A => Boolean): List[A] =\n",
    "        l match {\n",
    "            case Cons(h, t) => if (f(h)) dropWhile(t, f) else l\n",
    "            case _ => l\n",
    "        }\n",
    "    \n",
    "    def init[A](l: List[A]): List[A] =\n",
    "        l match {\n",
    "            case Nil => sys.error(\"empty\")\n",
    "            case Cons(_,Nil) => Nil\n",
    "            case Cons(h,t) => Cons(h, init(t))\n",
    "        }    \n",
    "}\n",
    "\n",
    "val a = List(1,2,3,4)\n",
    "val b = List.init(a)"
   ]
  },
  {
   "cell_type": "markdown",
   "metadata": {},
   "source": [
    "サンプルには、ListBuffer なるものを利用し、コピーしていく方法があるみたい。\n",
    "```Scala\n",
    "  def init2[A](l: List[A]): List[A] = {\n",
    "    import collection.mutable.ListBuffer\n",
    "    val buf = new ListBuffer[A]\n",
    "    @annotation.tailrec\n",
    "    def go(cur: List[A]): List[A] = cur match {\n",
    "      case Nil => sys.error(\"init of empty list\")\n",
    "      case Cons(_,Nil) => List(buf.toList: _*)\n",
    "      case Cons(h,t) => buf += h; go(t)\n",
    "    }\n",
    "    go(l)\n",
    "  }\n",
    "```\n",
    "\n",
    "tailのように一定時間の実装にならないのは、Consの入れ子になっているので、順に値を見ないと最後にたどりつけないからだな。"
   ]
  }
 ],
 "metadata": {
  "kernelspec": {
   "display_name": "Scala 2.11",
   "language": "scala211",
   "name": "scala211"
  },
  "language_info": {
   "codemirror_mode": "text/x-scala",
   "file_extension": "scala",
   "mimetype": "text/x-scala",
   "name": "scala211",
   "pygments_lexer": "scala",
   "version": "2.11.6"
  }
 },
 "nbformat": 4,
 "nbformat_minor": 0
}
