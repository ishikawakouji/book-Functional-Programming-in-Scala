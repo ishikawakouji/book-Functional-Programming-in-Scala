{
 "cells": [
  {
   "cell_type": "markdown",
   "metadata": {},
   "source": [
    "# EXERCISE 2.2\n",
    "\n",
    "findFirstの多相関数(この場合は特に総称関数)を参考に、ソートされているかどうかを調べる関数を作る。\n",
    "\n",
    "出だしは\n",
    "\n",
    "```Scala\n",
    "def isSorted[A](as: Array[A], ordered: (A,A) => Boolean): Boolean\n",
    "```\n",
    "\n",
    "となっている。比較関数が ordered で2つのA型引数を取るから、これを比較した結果を見ながら進めればいい。"
   ]
  },
  {
   "cell_type": "code",
   "execution_count": 3,
   "metadata": {
    "collapsed": false
   },
   "outputs": [
    {
     "data": {
      "text/plain": [
       "defined \u001b[32mfunction \u001b[36misSorted\u001b[0m"
      ]
     },
     "metadata": {},
     "output_type": "display_data"
    }
   ],
   "source": [
    "def isSorted[A](as: Array[A], ordered: (A,A) => Boolean): Boolean = {\n",
    "    @annotation.tailrec\n",
    "    def loop(n: Int, flag: Boolean): Boolean =\n",
    "        if (as.length == 1) true\n",
    "        else if (n+1 >= as.length || !flag) flag\n",
    "        else loop(n+1, ordered(as(n), as(n+1)))\n",
    "    \n",
    "    loop(0, true)\n",
    "}"
   ]
  },
  {
   "cell_type": "code",
   "execution_count": 7,
   "metadata": {
    "collapsed": false
   },
   "outputs": [
    {
     "data": {
      "text/plain": [
       "\u001b[36mar1\u001b[0m: \u001b[32mArray\u001b[0m[\u001b[32mInt\u001b[0m] = \u001b[33mArray\u001b[0m(\u001b[32m1\u001b[0m, \u001b[32m2\u001b[0m, \u001b[32m3\u001b[0m)\n",
       "defined \u001b[32mfunction \u001b[36moi\u001b[0m\n",
       "\u001b[36mres1_2\u001b[0m: \u001b[32mBoolean\u001b[0m = true"
      ]
     },
     "metadata": {},
     "output_type": "display_data"
    }
   ],
   "source": [
    "var ar1:Array[Int] = Array(1,2,3)\n",
    "def oi(x:Int, y:Int):Boolean = (x < y)\n",
    "\n",
    "isSorted[Int](ar1, oi)"
   ]
  },
  {
   "cell_type": "code",
   "execution_count": 8,
   "metadata": {
    "collapsed": false
   },
   "outputs": [
    {
     "data": {
      "text/plain": [
       "\u001b[36mar2\u001b[0m: \u001b[32mArray\u001b[0m[\u001b[32mInt\u001b[0m] = \u001b[33mArray\u001b[0m(\u001b[32m1\u001b[0m, \u001b[32m3\u001b[0m, \u001b[32m2\u001b[0m)\n",
       "\u001b[36mres2_1\u001b[0m: \u001b[32mBoolean\u001b[0m = false"
      ]
     },
     "metadata": {},
     "output_type": "display_data"
    }
   ],
   "source": [
    "var ar2:Array[Int] = Array(1,3,2)\n",
    "\n",
    "isSorted[Int](ar2, oi)"
   ]
  },
  {
   "cell_type": "markdown",
   "metadata": {},
   "source": [
    "できたかな？\n",
    "\n",
    "本家をみてみると。"
   ]
  },
  {
   "cell_type": "code",
   "execution_count": 9,
   "metadata": {
    "collapsed": false
   },
   "outputs": [
    {
     "data": {
      "text/plain": [
       "defined \u001b[32mfunction \u001b[36misSorted2\u001b[0m"
      ]
     },
     "metadata": {},
     "output_type": "display_data"
    }
   ],
   "source": [
    "  def isSorted2[A](as: Array[A], gt: (A,A) => Boolean): Boolean = {\n",
    "    @annotation.tailrec\n",
    "    def go(n: Int): Boolean =\n",
    "      if (n >= as.length-1) true\n",
    "      else if (gt(as(n), as(n+1))) false\n",
    "      else go(n+1)\n",
    "\n",
    "    go(0)\n",
    "  }"
   ]
  },
  {
   "cell_type": "code",
   "execution_count": 10,
   "metadata": {
    "collapsed": false
   },
   "outputs": [
    {
     "data": {
      "text/plain": [
       "\u001b[36mres4\u001b[0m: \u001b[32mBoolean\u001b[0m = false"
      ]
     },
     "metadata": {},
     "output_type": "display_data"
    }
   ],
   "source": [
    "isSorted2[Int](ar1, oi)"
   ]
  },
  {
   "cell_type": "code",
   "execution_count": 11,
   "metadata": {
    "collapsed": false
   },
   "outputs": [
    {
     "data": {
      "text/plain": [
       "\u001b[36mres5\u001b[0m: \u001b[32mBoolean\u001b[0m = false"
      ]
     },
     "metadata": {},
     "output_type": "display_data"
    }
   ],
   "source": [
    "isSorted2[Int](ar2, oi)"
   ]
  },
  {
   "cell_type": "markdown",
   "metadata": {},
   "source": [
    "えっと、gt が要求しているのが oi と違うな。gt だから x > y で true にしないと。"
   ]
  },
  {
   "cell_type": "code",
   "execution_count": 12,
   "metadata": {
    "collapsed": false
   },
   "outputs": [
    {
     "data": {
      "text/plain": [
       "defined \u001b[32mfunction \u001b[36mgti\u001b[0m"
      ]
     },
     "metadata": {},
     "output_type": "display_data"
    }
   ],
   "source": [
    "def gti(x:Int, y:Int):Boolean = !oi(x,y)"
   ]
  },
  {
   "cell_type": "code",
   "execution_count": 13,
   "metadata": {
    "collapsed": false
   },
   "outputs": [
    {
     "data": {
      "text/plain": [
       "\u001b[36mres7\u001b[0m: \u001b[32mBoolean\u001b[0m = true"
      ]
     },
     "metadata": {},
     "output_type": "display_data"
    }
   ],
   "source": [
    "isSorted2[Int](ar1, gti)"
   ]
  },
  {
   "cell_type": "code",
   "execution_count": 14,
   "metadata": {
    "collapsed": false
   },
   "outputs": [
    {
     "data": {
      "text/plain": [
       "\u001b[36mres8\u001b[0m: \u001b[32mBoolean\u001b[0m = false"
      ]
     },
     "metadata": {},
     "output_type": "display_data"
    }
   ],
   "source": [
    "isSorted2[Int](ar2, gti)"
   ]
  },
  {
   "cell_type": "markdown",
   "metadata": {},
   "source": [
    "よし。できました。"
   ]
  }
 ],
 "metadata": {
  "kernelspec": {
   "display_name": "Scala 2.11",
   "language": "scala211",
   "name": "scala211"
  },
  "language_info": {
   "codemirror_mode": "text/x-scala",
   "file_extension": "scala",
   "mimetype": "text/x-scala",
   "name": "scala211",
   "pygments_lexer": "scala",
   "version": "2.11.6"
  }
 },
 "nbformat": 4,
 "nbformat_minor": 0
}
