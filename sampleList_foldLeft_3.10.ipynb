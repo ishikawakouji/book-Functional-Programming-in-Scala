{
 "cells": [
  {
   "cell_type": "markdown",
   "metadata": {},
   "source": [
    "# EXERCISE 3.10\n",
    "\n",
    "foldRight はスタックが溢れる可能性がある。（スタックセーフでないと言う、とのこと）\n",
    "\n",
    "ということで、foldLeftを実装する。\n",
    "\n",
    "```Scala\n",
    "def foldLeft[A,B](as: List[A], z:B)(f: (B, A) => B): B\n",
    "```"
   ]
  },
  {
   "cell_type": "code",
   "execution_count": 3,
   "metadata": {
    "collapsed": false
   },
   "outputs": [
    {
     "data": {
      "text/plain": [
       "defined \u001b[32mtrait \u001b[36mList\u001b[0m\n",
       "defined \u001b[32mobject \u001b[36mNil\u001b[0m\n",
       "defined \u001b[32mclass \u001b[36mCons\u001b[0m\n",
       "defined \u001b[32mobject \u001b[36mList\u001b[0m\n",
       "\u001b[36ma\u001b[0m: \u001b[32m$user\u001b[0m.\u001b[32mList\u001b[0m[\u001b[32mInt\u001b[0m] = Cons(1,Cons(2,Cons(3,Nil)))\n",
       "\u001b[36mb\u001b[0m: \u001b[32mInt\u001b[0m = \u001b[32m6\u001b[0m"
      ]
     },
     "metadata": {},
     "output_type": "display_data"
    }
   ],
   "source": [
    "sealed trait List[+A]\n",
    "case object Nil extends List[Nothing]\n",
    "case class Cons[+A](head: A, tail: List[A]) extends List[A]\n",
    "\n",
    "object List {\n",
    "    def sum(ints: List[Int]): Int =\n",
    "        ints match {\n",
    "            case Nil => 0\n",
    "            case Cons(x, xs) => x + sum(xs)\n",
    "        }\n",
    "    \n",
    "    def apply[A](as: A*): List[A] =\n",
    "        if (as.isEmpty) Nil\n",
    "        else Cons(as.head, apply(as.tail: _*))\n",
    "    \n",
    "    def tail[A](as: List[A]): List[A] =\n",
    "        as match {\n",
    "            case Nil => Nil\n",
    "            case Cons(h, t) => t\n",
    "        }\n",
    "    \n",
    "    def setHead[A](l: List[A], a: A): List[A] =\n",
    "        l match {\n",
    "            case Nil => apply(a)\n",
    "            case Cons(_, t) => Cons(a, t)\n",
    "        }\n",
    "    \n",
    "    def drop[A](l: List[A], n: Int): List[A] =\n",
    "        if (n <= 0) l\n",
    "        else l match {\n",
    "            case Nil => Nil\n",
    "            case Cons(_, t) => drop(t, n-1)\n",
    "        }\n",
    "    \n",
    "    def dropWhile[A](l: List[A], f: A => Boolean): List[A] =\n",
    "        l match {\n",
    "            case Cons(h, t) => if (f(h)) dropWhile(t, f) else l\n",
    "            case _ => l\n",
    "        }\n",
    "    \n",
    "    def init[A](l: List[A]): List[A] =\n",
    "        l match {\n",
    "            case Nil => sys.error(\"empty\")\n",
    "            case Cons(_,Nil) => Nil\n",
    "            case Cons(h,t) => Cons(h, init(t))\n",
    "        }\n",
    " \n",
    "    def foldRight[A,B](as: List[A], z: B)(f: (A, B) => B): B = // Utility functions\n",
    "        as match {\n",
    "          case Nil => z\n",
    "          case Cons(x, xs) => f(x, foldRight(xs, z)(f))\n",
    "    }\n",
    "    \n",
    "    def length[A](as: List[A]): Int =\n",
    "        foldRight(as, 0)((x,y) => 1 + y)\n",
    "    \n",
    "    @annotation.tailrec\n",
    "    def foldLeft[A,B](as: List[A], z: B)(f: (B, A) => B): B =\n",
    "        as match {\n",
    "            case Nil => z\n",
    "            case Cons(x, xs) => foldLeft(xs, f(z, x))(f)\n",
    "        }\n",
    "}\n",
    "\n",
    "val a = List(1,2,3)\n",
    "val b= List.foldLeft(a, 0)((_+_))"
   ]
  },
  {
   "cell_type": "markdown",
   "metadata": {},
   "source": [
    "末尾再帰になったようなので、これでいいみたい。\n",
    "\n",
    "回答はこちら。\n",
    "```Scala\n",
    "  /*\n",
    "  It's common practice to annotate functions you expect to be tail-recursive with the `tailrec` annotation. If the\n",
    "  function is not tail-recursive, it will yield a compile error, rather than silently compiling the code and resulting\n",
    "  in greater stack space usage at runtime.\n",
    "  */\n",
    "  @annotation.tailrec\n",
    "  def foldLeft[A,B](l: List[A], z: B)(f: (B, A) => B): B = l match {\n",
    "    case Nil => z\n",
    "    case Cons(h,t) => foldLeft(t, f(z,h))(f)\n",
    "  }\n",
    "```"
   ]
  }
 ],
 "metadata": {
  "kernelspec": {
   "display_name": "Scala 2.11",
   "language": "scala211",
   "name": "scala211"
  },
  "language_info": {
   "codemirror_mode": "text/x-scala",
   "file_extension": "scala",
   "mimetype": "text/x-scala",
   "name": "scala211",
   "pygments_lexer": "scala",
   "version": "2.11.6"
  }
 },
 "nbformat": 4,
 "nbformat_minor": 0
}
