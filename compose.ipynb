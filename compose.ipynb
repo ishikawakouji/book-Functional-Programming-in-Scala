{
 "cells": [
  {
   "cell_type": "markdown",
   "metadata": {},
   "source": [
    "# EXERCISE2.5\n",
    "## compose\n",
    "\n",
    "関数を合成しろってことらしい。\n",
    "\n",
    "```Scala\n",
    "def compose[A,B,C](f: B=> C, g: A => B): A => C\n",
    "```\n",
    "\n",
    "引数を入れ子にするみたいな感じだろう。"
   ]
  },
  {
   "cell_type": "code",
   "execution_count": 3,
   "metadata": {
    "collapsed": false
   },
   "outputs": [
    {
     "data": {
      "text/plain": [
       "defined \u001b[32mfunction \u001b[36mcompose\u001b[0m"
      ]
     },
     "metadata": {},
     "output_type": "display_data"
    }
   ],
   "source": [
    "def compose[A,B,C](f: B=> C, g: A => B): A => C =\n",
    "a => f(g(a))"
   ]
  },
  {
   "cell_type": "markdown",
   "metadata": {},
   "source": [
    "A型の引数を持ち、C型を返す関数ということになる。"
   ]
  }
 ],
 "metadata": {
  "kernelspec": {
   "display_name": "Scala 2.11",
   "language": "scala211",
   "name": "scala211"
  },
  "language_info": {
   "codemirror_mode": "text/x-scala",
   "file_extension": "scala",
   "mimetype": "text/x-scala",
   "name": "scala211",
   "pygments_lexer": "scala",
   "version": "2.11.6"
  }
 },
 "nbformat": 4,
 "nbformat_minor": 0
}
