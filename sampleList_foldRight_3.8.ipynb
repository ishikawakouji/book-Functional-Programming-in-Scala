{
 "cells": [
  {
   "cell_type": "markdown",
   "metadata": {},
   "source": [
    "# EXERCISE 3.8\n",
    "\n",
    "fにCons(_,_)を入れると、単なるコピーだな。もともとのListのコンストラクタと比較すると、同じと見れる。\n",
    "\n",
    "```Scala\n",
    "    def apply[A](as: A*): List[A] =\n",
    "        if (as.isEmpty) Nil\n",
    "        else Cons(as.head, apply(as.tail: _*))\n",
    "```\n",
    "\n",
    "```Scala\n",
    "foldRight(Cons(1, Cons(2, Cons(3, Nil))), Nil:List[Int])(Cons(_,_))\n",
    "Cons(1, foldRight(Cons(2, Cons(3, Nil))))\n",
    "Cons(1, Cons(2, Cons(3, foldRight(Nil))))\n",
    "Cons(1, Cons(2, Cons(3, Nil)))\n",
    "```\n",
    "\n",
    "```\n",
    "  /*\n",
    "  We get back the original list! Why is that? As we mentioned earlier, one way of thinking about what `foldRight` \"does\"\n",
    "  is it replaces the `Nil` constructor of the list with the `z` argument, and it replaces the `Cons` constructor with\n",
    "  the given function, `f`. If we just supply `Nil` for `z` and `Cons` for `f`, then we get back the input list.\n",
    "  foldRight(Cons(1, Cons(2, Cons(3, Nil))), Nil:List[Int])(Cons(_,_))\n",
    "  Cons(1, foldRight(Cons(2, Cons(3, Nil)), Nil:List[Int])(Cons(_,_)))\n",
    "  Cons(1, Cons(2, foldRight(Cons(3, Nil), Nil:List[Int])(Cons(_,_))))\n",
    "  Cons(1, Cons(2, Cons(3, foldRight(Nil, Nil:List[Int])(Cons(_,_)))))\n",
    "  Cons(1, Cons(2, Cons(3, Nil)))\n",
    "  */\n",
    "```"
   ]
  }
 ],
 "metadata": {
  "kernelspec": {
   "display_name": "Scala 2.11",
   "language": "scala211",
   "name": "scala211"
  },
  "language_info": {
   "codemirror_mode": "text/x-scala",
   "file_extension": "scala",
   "mimetype": "text/x-scala",
   "name": "scala211",
   "pygments_lexer": "scala",
   "version": "2.11.6"
  }
 },
 "nbformat": 4,
 "nbformat_minor": 0
}
