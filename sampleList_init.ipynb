{
 "cells": [
  {
   "cell_type": "markdown",
   "metadata": {},
   "source": [
    "# EXERCISE 3.6\n",
    "\n",
    "今度は最後の要素を落とす。"
   ]
  },
  {
   "cell_type": "code",
   "execution_count": 1,
   "metadata": {
    "collapsed": false
   },
   "outputs": [
    {
     "data": {
      "text/plain": [
       "defined \u001b[32mtrait \u001b[36mList\u001b[0m\n",
       "defined \u001b[32mobject \u001b[36mNil\u001b[0m\n",
       "defined \u001b[32mclass \u001b[36mCons\u001b[0m\n",
       "defined \u001b[32mobject \u001b[36mList\u001b[0m\n",
       "\u001b[36mx\u001b[0m: \u001b[32m$user\u001b[0m.\u001b[32mList\u001b[0m[\u001b[32mInt\u001b[0m] = Cons(1,Cons(2,Cons(3,Cons(4,Nil))))"
      ]
     },
     "metadata": {},
     "output_type": "display_data"
    }
   ],
   "source": [
    "sealed trait List[+A]\n",
    "case object Nil extends List[Nothing]\n",
    "case class Cons[+A](head: A, tail: List[A]) extends List[A]\n",
    "\n",
    "object List {\n",
    "    def sum(ints: List[Int]): Int =\n",
    "        ints match {\n",
    "            case Nil => 0\n",
    "            case Cons(x, xs) => x + sum(xs)\n",
    "        }\n",
    "    \n",
    "    def apply[A](as: A*): List[A] =\n",
    "        if (as.isEmpty) Nil\n",
    "        else Cons(as.head, apply(as.tail: _*))\n",
    "    \n",
    "    def tail[A](as: List[A]): List[A] =\n",
    "        as match {\n",
    "            case Nil => Nil\n",
    "            case Cons(h, t) => t\n",
    "        }\n",
    "    \n",
    "    def setHead[A](l: List[A], a: A): List[A] =\n",
    "        l match {\n",
    "            case Nil => apply(a)\n",
    "            case Cons(_, t) => Cons(a, t)\n",
    "        }\n",
    "    \n",
    "    def drop[A](l: List[A], n: Int): List[A] =\n",
    "        if (n <= 0) l\n",
    "        else l match {\n",
    "            case Nil => Nil\n",
    "            case Cons(_, t) => drop(t, n-1)\n",
    "        }\n",
    "    \n",
    "    def dropWhile[A](l: List[A], f: A => Boolean): List[A] =\n",
    "        l match {\n",
    "            case Cons(h, t) => if (f(h)) t else l\n",
    "            case _ => l\n",
    "        }\n",
    "    \n",
    "    def init[A](l: List[A]): List[A] =\n",
    "        l match {\n",
    "            case Nil => Nil\n",
    "            case Cons(h, Nil) => Nil\n",
    "            case Cons(h, t) => Cons(h, init(t))\n",
    "        }\n",
    "}\n",
    "\n",
    "val x = List.init(List(1,2,3,4,5))"
   ]
  },
  {
   "cell_type": "markdown",
   "metadata": {},
   "source": [
    "んー。initを再帰で利用しているけど、終了ケースに行くまで、深堀りする感じになるからか、めっちゃ時間がかかる。\n",
    "\n",
    "ちなみに、Cons(h, Nil) はどうせ h を捨てるので、\"_\" を利用すればいい。それから、いきなり Nil はエラーか。\n",
    "\n",
    "```Scala\n",
    "/*\n",
    "  Note that we're copying the entire list up until the last element. Besides being inefficient, the natural recursive\n",
    "  solution will use a stack frame for each element of the list, which can lead to stack overflows for\n",
    "  large lists (can you see why?). With lists, it's common to use a temporary, mutable buffer internal to the\n",
    "  function (with lazy lists or streams, which we discuss in chapter 5, we don't normally do this). So long as the\n",
    "  buffer is allocated internal to the function, the mutation is not observable and RT is preserved.\n",
    "  Another common convention is to accumulate the output list in reverse order, then reverse it at the end, which\n",
    "  doesn't require even local mutation. We'll write a reverse function later in this chapter.\n",
    "  */\n",
    "  def init[A](l: List[A]): List[A] =\n",
    "    l match {\n",
    "      case Nil => sys.error(\"init of empty list\")\n",
    "      case Cons(_,Nil) => Nil\n",
    "      case Cons(h,t) => Cons(h,init(t))\n",
    "    }\n",
    "```"
   ]
  }
 ],
 "metadata": {
  "kernelspec": {
   "display_name": "Scala 2.11",
   "language": "scala211",
   "name": "scala211"
  },
  "language_info": {
   "codemirror_mode": "text/x-scala",
   "file_extension": "scala",
   "mimetype": "text/x-scala",
   "name": "scala211",
   "pygments_lexer": "scala",
   "version": "2.11.6"
  }
 },
 "nbformat": 4,
 "nbformat_minor": 0
}
