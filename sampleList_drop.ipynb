{
 "cells": [
  {
   "cell_type": "markdown",
   "metadata": {},
   "source": [
    "# EXERCISE 3.4\n",
    "\n",
    "tail の続き。頭からn個の要素を削除する。\n",
    "\n",
    "途中で、Nil になったらエラー？、それから再帰にする、くらいかな。"
   ]
  },
  {
   "cell_type": "code",
   "execution_count": 2,
   "metadata": {
    "collapsed": false
   },
   "outputs": [
    {
     "data": {
      "text/plain": [
       "defined \u001b[32mtrait \u001b[36mList\u001b[0m\n",
       "defined \u001b[32mobject \u001b[36mNil\u001b[0m\n",
       "defined \u001b[32mclass \u001b[36mCons\u001b[0m\n",
       "defined \u001b[32mobject \u001b[36mList\u001b[0m\n",
       "\u001b[36mx\u001b[0m: \u001b[32m$user\u001b[0m.\u001b[32mList\u001b[0m[\u001b[32mInt\u001b[0m] = Cons(4,Cons(5,Nil))\n",
       "\u001b[36my\u001b[0m: \u001b[32m$user\u001b[0m.\u001b[32mList\u001b[0m[\u001b[32mInt\u001b[0m] = Nil"
      ]
     },
     "metadata": {},
     "output_type": "display_data"
    }
   ],
   "source": [
    "sealed trait List[+A]\n",
    "case object Nil extends List[Nothing]\n",
    "case class Cons[+A](head: A, tail: List[A]) extends List[A]\n",
    "\n",
    "object List {\n",
    "    def sum(ints: List[Int]): Int =\n",
    "        ints match {\n",
    "            case Nil => 0\n",
    "            case Cons(x, xs) => x + sum(xs)\n",
    "        }\n",
    "    \n",
    "    def apply[A](as: A*): List[A] =\n",
    "        if (as.isEmpty) Nil\n",
    "        else Cons(as.head, apply(as.tail: _*))\n",
    "    \n",
    "    def tail[A](as: List[A]): List[A] =\n",
    "        as match {\n",
    "            case Nil => Nil\n",
    "            case Cons(h, t) => t\n",
    "        }\n",
    "    \n",
    "    def setHead[A](l: List[A], a: A): List[A] =\n",
    "        l match {\n",
    "            case Nil => apply(a)\n",
    "            case Cons(_, t) => Cons(a, t)\n",
    "        }\n",
    "    \n",
    "    def drop[A](l: List[A], n: Int): List[A] =\n",
    "        if (n <= 0) l\n",
    "        else l match {\n",
    "            case Nil => Nil\n",
    "            case Cons(_, t) => drop(t, n-1)\n",
    "        }\n",
    "}\n",
    "\n",
    "val x = List.drop(List(1,2,3,4,5), 3)\n",
    "val y = List.drop(List(1,2), 3)"
   ]
  },
  {
   "cell_type": "markdown",
   "metadata": {},
   "source": [
    "途中で Nil になったら、そこで Nil にして終わらせればいいらしい。まぁ、要求によるところか。\n",
    "\n",
    "```Scala\n",
    "  /*\n",
    "  Again, it's somewhat subjective whether to throw an exception when asked to drop more elements than the list\n",
    "  contains. The usual default for `drop` is not to throw an exception, since it's typically used in cases where this\n",
    "  is not indicative of a programming error. If you pay attention to how you use `drop`, it's often in cases where the\n",
    "  length of the input list is unknown, and the number of elements to be dropped is being computed from something else.\n",
    "  If `drop` threw an exception, we'd have to first compute or check the length and only drop up to that many elements.\n",
    "  */\n",
    "  def drop[A](l: List[A], n: Int): List[A] =\n",
    "    if (n <= 0) l\n",
    "    else l match {\n",
    "      case Nil => Nil\n",
    "      case Cons(_,t) => drop(t, n-1)\n",
    "    }\n",
    "```"
   ]
  }
 ],
 "metadata": {
  "kernelspec": {
   "display_name": "Scala 2.11",
   "language": "scala211",
   "name": "scala211"
  },
  "language_info": {
   "codemirror_mode": "text/x-scala",
   "file_extension": "scala",
   "mimetype": "text/x-scala",
   "name": "scala211",
   "pygments_lexer": "scala",
   "version": "2.11.6"
  }
 },
 "nbformat": 4,
 "nbformat_minor": 0
}
